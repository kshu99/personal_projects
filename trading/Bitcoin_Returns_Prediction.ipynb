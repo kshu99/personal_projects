{
 "cells": [
  {
   "cell_type": "markdown",
   "metadata": {},
   "source": [
    "### Setup"
   ]
  },
  {
   "cell_type": "code",
   "execution_count": 37,
   "metadata": {},
   "outputs": [],
   "source": [
    "import yfinance\n",
    "import datetime as dt\n",
    "import json\n",
    "import pandas as pd\n",
    "import requests\n",
    "pd.set_option('display.max_columns', None)\n",
    "pd.set_option('display.max_rows', None)\n",
    "pd.set_option('display.max_colwidth', -1)\n",
    "import numpy as np\n",
    "import matplotlib.pyplot as plt\n",
    "%matplotlib inline\n",
    "import timeit\n",
    "from sklearn.linear_model import LinearRegression\n",
    "from sklearn.ensemble import RandomForestRegressor\n",
    "from sklearn.ensemble import GradientBoostingRegressor\n",
    "plt.rcParams[\"figure.figsize\"] = (15,8)"
   ]
  },
  {
   "cell_type": "code",
   "execution_count": 5,
   "metadata": {},
   "outputs": [],
   "source": [
    "btc = pd.read_csv('Datasets\\BTC-USD.csv')"
   ]
  },
  {
   "cell_type": "code",
   "execution_count": 6,
   "metadata": {},
   "outputs": [],
   "source": [
    "btc.set_index('Date', inplace=True)"
   ]
  },
  {
   "cell_type": "code",
   "execution_count": 7,
   "metadata": {},
   "outputs": [
    {
     "data": {
      "text/plain": [
       "<matplotlib.axes._subplots.AxesSubplot at 0x1f688c27940>"
      ]
     },
     "execution_count": 7,
     "metadata": {},
     "output_type": "execute_result"
    },
    {
     "data": {
      "image/png": "[encoded data removed]",
      "text/plain": [
       "<Figure size 432x288 with 1 Axes>"
      ]
     },
     "metadata": {
      "needs_background": "light"
     },
     "output_type": "display_data"
    }
   ],
   "source": [
    "btc['Close'].plot()"
   ]
  },
  {
   "cell_type": "code",
   "execution_count": 21,
   "metadata": {},
   "outputs": [],
   "source": [
    "rates = pd.read_csv('Datasets\\Interest rates\\daily-treasury-rates.csv')"
   ]
  },
  {
   "cell_type": "code",
   "execution_count": 22,
   "metadata": {},
   "outputs": [],
   "source": [
    "rates = rates[['3 Mo', '10 Yr', 'Date']].set_index('Date').sort_index()\n",
    "#rates[rates.isna().any(axis=1)]"
   ]
  },
  {
   "cell_type": "code",
   "execution_count": 45,
   "metadata": {},
   "outputs": [],
   "source": [
    "rates.index = pd.to_datetime(rates.index)\n",
    "btc.index = pd.to_datetime(btc.index)"
   ]
  },
  {
   "cell_type": "code",
   "execution_count": 54,
   "metadata": {},
   "outputs": [],
   "source": [
    "btc = btc.join(rates, how='inner')"
   ]
  },
  {
   "cell_type": "code",
   "execution_count": 56,
   "metadata": {},
   "outputs": [
    {
     "data": {
      "text/html": [
       "<div>\n",
       "<style scoped>\n",
       "    .dataframe tbody tr th:only-of-type {\n",
       "        vertical-align: middle;\n",
       "    }\n",
       "\n",
       "    .dataframe tbody tr th {\n",
       "        vertical-align: top;\n",
       "    }\n",
       "\n",
       "    .dataframe thead th {\n",
       "        text-align: right;\n",
       "    }\n",
       "</style>\n",
       "<table border=\"1\" class=\"dataframe\">\n",
       "  <thead>\n",
       "    <tr style=\"text-align: right;\">\n",
       "      <th></th>\n",
       "      <th>Open</th>\n",
       "      <th>High</th>\n",
       "      <th>Low</th>\n",
       "      <th>Close</th>\n",
       "      <th>Adj Close</th>\n",
       "      <th>Volume</th>\n",
       "      <th>3 Mo</th>\n",
       "      <th>10 Yr</th>\n",
       "    </tr>\n",
       "    <tr>\n",
       "      <th>Date</th>\n",
       "      <th></th>\n",
       "      <th></th>\n",
       "      <th></th>\n",
       "      <th></th>\n",
       "      <th></th>\n",
       "      <th></th>\n",
       "      <th></th>\n",
       "      <th></th>\n",
       "    </tr>\n",
       "  </thead>\n",
       "  <tbody>\n",
       "    <tr>\n",
       "      <th>2014-09-17</th>\n",
       "      <td>465.864014</td>\n",
       "      <td>468.174011</td>\n",
       "      <td>452.421997</td>\n",
       "      <td>457.334015</td>\n",
       "      <td>457.334015</td>\n",
       "      <td>21056800</td>\n",
       "      <td>0.02</td>\n",
       "      <td>2.62</td>\n",
       "    </tr>\n",
       "    <tr>\n",
       "      <th>2014-09-18</th>\n",
       "      <td>456.859985</td>\n",
       "      <td>456.859985</td>\n",
       "      <td>413.104004</td>\n",
       "      <td>424.440002</td>\n",
       "      <td>424.440002</td>\n",
       "      <td>34483200</td>\n",
       "      <td>0.02</td>\n",
       "      <td>2.63</td>\n",
       "    </tr>\n",
       "    <tr>\n",
       "      <th>2014-09-19</th>\n",
       "      <td>424.102997</td>\n",
       "      <td>427.834991</td>\n",
       "      <td>384.532013</td>\n",
       "      <td>394.795990</td>\n",
       "      <td>394.795990</td>\n",
       "      <td>37919700</td>\n",
       "      <td>0.02</td>\n",
       "      <td>2.59</td>\n",
       "    </tr>\n",
       "    <tr>\n",
       "      <th>2014-09-22</th>\n",
       "      <td>399.100006</td>\n",
       "      <td>406.915985</td>\n",
       "      <td>397.130005</td>\n",
       "      <td>402.152008</td>\n",
       "      <td>402.152008</td>\n",
       "      <td>24127600</td>\n",
       "      <td>0.01</td>\n",
       "      <td>2.57</td>\n",
       "    </tr>\n",
       "    <tr>\n",
       "      <th>2014-09-23</th>\n",
       "      <td>402.092010</td>\n",
       "      <td>441.557007</td>\n",
       "      <td>396.196991</td>\n",
       "      <td>435.790985</td>\n",
       "      <td>435.790985</td>\n",
       "      <td>45099500</td>\n",
       "      <td>0.01</td>\n",
       "      <td>2.54</td>\n",
       "    </tr>\n",
       "  </tbody>\n",
       "</table>\n",
       "</div>"
      ],
      "text/plain": [
       "                  Open        High         Low       Close   Adj Close  \\\n",
       "Date                                                                     \n",
       "2014-09-17  465.864014  468.174011  452.421997  457.334015  457.334015   \n",
       "2014-09-18  456.859985  456.859985  413.104004  424.440002  424.440002   \n",
       "2014-09-19  424.102997  427.834991  384.532013  394.795990  394.795990   \n",
       "2014-09-22  399.100006  406.915985  397.130005  402.152008  402.152008   \n",
       "2014-09-23  402.092010  441.557007  396.196991  435.790985  435.790985   \n",
       "\n",
       "              Volume  3 Mo  10 Yr  \n",
       "Date                               \n",
       "2014-09-17  21056800  0.02  2.62   \n",
       "2014-09-18  34483200  0.02  2.63   \n",
       "2014-09-19  37919700  0.02  2.59   \n",
       "2014-09-22  24127600  0.01  2.57   \n",
       "2014-09-23  45099500  0.01  2.54   "
      ]
     },
     "execution_count": 56,
     "metadata": {},
     "output_type": "execute_result"
    }
   ],
   "source": [
    "btc.head()"
   ]
  },
  {
   "cell_type": "markdown",
   "metadata": {},
   "source": [
    "### Functions"
   ]
  },
  {
   "cell_type": "code",
   "execution_count": 23,
   "metadata": {},
   "outputs": [],
   "source": [
    "def returns_plot(s, w):\n",
    "    signal = s.pct_change(w).dropna()\n",
    "    m = np.abs(signal).mean()\n",
    "    sd = np.abs(signal).std()\n",
    "    print(f'mean absolute pct return: {round(m*100, 2)}%')\n",
    "    print(f'sd absolute pct return: {round(sd*100, 2)}%')\n",
    "    signal.hist(bins=100)\n",
    "    plt.axvline(m, color='red')\n",
    "    plt.show()"
   ]
  },
  {
   "cell_type": "code",
   "execution_count": 24,
   "metadata": {},
   "outputs": [],
   "source": [
    "def common_idx(df1, df2):\n",
    "    \"\"\"\n",
    "    This function finds the intersection of the indices of two signals\n",
    "\n",
    "    Parameters:\n",
    "        df1 (pandas DataFrame): DataFrame containing signal 1\n",
    "        df2 (pandas DataFrame): DataFrame containing singal 2\n",
    "\n",
    "    Returns:\n",
    "        DataFrames containing signals with common indices\n",
    "    \"\"\"\n",
    "    \n",
    "    comm_idx = df1.index.intersection(df2.index)\n",
    "    \n",
    "    df1 = df1.loc[comm_idx]\n",
    "    df2 = df2.loc[comm_idx]\n",
    "\n",
    "    return(df1, df2)"
   ]
  },
  {
   "cell_type": "code",
   "execution_count": 25,
   "metadata": {},
   "outputs": [],
   "source": [
    "def rolling_model(X, y, tw=252, yw=5):\n",
    "    \"\"\"\n",
    "    This function trains a regression model using a rolling window\n",
    "\n",
    "    Parameters:\n",
    "        X (pandas DataFrame): DataFrame containing predictors\n",
    "        y (pandas DataFrame): DataFrame containing output\n",
    "        tw (int): backward rolling window to train model over\n",
    "        yw (int): forward looking rolling window for output\n",
    "\n",
    "    Returns:\n",
    "        list of R-squared scores\n",
    "    \"\"\"   \n",
    "\n",
    "    actual = []\n",
    "    pred = []\n",
    "    i = 0\n",
    "    \n",
    "    start_time = timeit.default_timer()\n",
    "    \n",
    "    while (i+tw+yw) <= (len(X)-1):\n",
    "        X_sub = X[i:(i+tw)]\n",
    "        y_sub = y[i:(i+tw)]\n",
    "        reg = LinearRegression().fit(X_sub, y_sub)\n",
    "        \n",
    "        pred.append(reg.predict(np.array(X.iloc[i+tw+yw]).reshape(1, -1))[0])\n",
    "        actual.append(y.iloc[i+tw+yw])\n",
    "        \n",
    "        i += 1\n",
    "        \n",
    "    elapsed = timeit.default_timer() - start_time\n",
    "\n",
    "    print(f'Run time (mins): {round(elapsed/60, 2)}')\n",
    "    \n",
    "    res_df = pd.DataFrame({'actual':actual,'pred':pred})\n",
    "    r2 = (np.corrcoef(res_df['actual'], res_df['pred'])[0][1])**2\n",
    "    \n",
    "    print(f'# of models: {len(res_df)}')   \n",
    "    print(f'r2: {round(r2, 3)}')\n",
    "    \n",
    "    plt.scatter(res_df['actual'], res_df['pred'])\n",
    "    plt.xlabel('actual', fontsize=16)\n",
    "    plt.ylabel('pred', fontsize=16)\n",
    "    plt.show()\n",
    "        \n",
    "    return res_df"
   ]
  },
  {
   "cell_type": "markdown",
   "metadata": {},
   "source": [
    "### Explore returns by window length"
   ]
  },
  {
   "cell_type": "code",
   "execution_count": 26,
   "metadata": {},
   "outputs": [
    {
     "name": "stdout",
     "output_type": "stream",
     "text": [
      "mean absolute pct return: 2.56%\n",
      "sd absolute pct return: 2.92%\n"
     ]
    },
    {
     "data": {
      "image/png": "[encoded data removed]",
      "text/plain": [
       "<Figure size 432x288 with 1 Axes>"
      ]
     },
     "metadata": {
      "needs_background": "light"
     },
     "output_type": "display_data"
    }
   ],
   "source": [
    "# daily returns\n",
    "returns_plot(btc['Close'], 1)"
   ]
  },
  {
   "cell_type": "code",
   "execution_count": 27,
   "metadata": {},
   "outputs": [
    {
     "name": "stdout",
     "output_type": "stream",
     "text": [
      "mean absolute pct return: 6.34%\n",
      "sd absolute pct return: 6.11%\n"
     ]
    },
    {
     "data": {
      "image/png": "[encoded data removed]",
      "text/plain": [
       "<Figure size 432x288 with 1 Axes>"
      ]
     },
     "metadata": {
      "needs_background": "light"
     },
     "output_type": "display_data"
    }
   ],
   "source": [
    "# weekly returns\n",
    "returns_plot(btc['Close'], 5)"
   ]
  },
  {
   "cell_type": "code",
   "execution_count": 28,
   "metadata": {},
   "outputs": [
    {
     "name": "stdout",
     "output_type": "stream",
     "text": [
      "mean absolute pct return: 9.47%\n",
      "sd absolute pct return: 9.02%\n"
     ]
    },
    {
     "data": {
      "image/png": "[encoded data removed]",
      "text/plain": [
       "<Figure size 432x288 with 1 Axes>"
      ]
     },
     "metadata": {
      "needs_background": "light"
     },
     "output_type": "display_data"
    }
   ],
   "source": [
    "# bi-weekly returns\n",
    "returns_plot(btc['Close'], 10)"
   ]
  },
  {
   "cell_type": "code",
   "execution_count": 29,
   "metadata": {},
   "outputs": [
    {
     "name": "stdout",
     "output_type": "stream",
     "text": [
      "mean absolute pct return: 14.64%\n",
      "sd absolute pct return: 14.39%\n"
     ]
    },
    {
     "data": {
      "image/png": "[encoded data removed]",
      "text/plain": [
       "<Figure size 432x288 with 1 Axes>"
      ]
     },
     "metadata": {
      "needs_background": "light"
     },
     "output_type": "display_data"
    }
   ],
   "source": [
    "# monthly returns\n",
    "returns_plot(btc['Close'], 20)"
   ]
  },
  {
   "cell_type": "code",
   "execution_count": 30,
   "metadata": {},
   "outputs": [
    {
     "name": "stdout",
     "output_type": "stream",
     "text": [
      "mean absolute pct return: 32.2%\n",
      "sd absolute pct return: 33.32%\n"
     ]
    },
    {
     "data": {
      "image/png": "[encoded data removed]",
      "text/plain": [
       "<Figure size 432x288 with 1 Axes>"
      ]
     },
     "metadata": {
      "needs_background": "light"
     },
     "output_type": "display_data"
    }
   ],
   "source": [
    "# quarterly returns\n",
    "returns_plot(btc['Close'], 60)"
   ]
  },
  {
   "cell_type": "markdown",
   "metadata": {},
   "source": [
    "### Feature engineering"
   ]
  },
  {
   "cell_type": "code",
   "execution_count": 31,
   "metadata": {},
   "outputs": [],
   "source": [
    "# train-test split\n",
    "X_train = btc[['Close', 'Volume']]\n",
    "\n",
    "y_train = pd.DataFrame(btc['Close'])"
   ]
  },
  {
   "cell_type": "code",
   "execution_count": 32,
   "metadata": {},
   "outputs": [],
   "source": [
    "# construct features\n",
    "dayofweek = pd.get_dummies(pd.to_datetime(X.index).dayofweek, drop_first=True)\n",
    "dayofweek.rename(columns={1: \"Tuesday\", 2: \"Wednesday\", 3: \"Thursday\", 4: \"Friday\", 5: \"Saturday\", 6: \"Sunday\"}, inplace=True)\n",
    "X = pd.concat([X, dayofweek.set_index(X.index)], axis=1)\n",
    "\n",
    "# log returns\n",
    "X['log_ret_1'] = np.log(X['Close']).diff()\n",
    "X['log_ret_5'] = np.log(X['Close']).diff(5)\n",
    "X['log_ret_20'] = np.log(X['Close']).diff(20)\n",
    "X['log_ret_60'] = np.log(X['Close']).diff(60)\n",
    "\n",
    "# rolling mean\n",
    "X['log_ret_1_mean_5'] = np.log(X['Close']).diff().rolling(5).mean()\n",
    "X['log_ret_5_mean_5'] = np.log(X['Close']).diff(5).rolling(5).mean()\n",
    "X['log_ret_20_mean_5'] = np.log(X['Close']).diff(20).rolling(5).mean()\n",
    "X['log_ret_60_mean_5'] = np.log(X['Close']).diff(60).rolling(5).mean()\n",
    "\n",
    "X['log_ret_1_mean_20'] = np.log(X['Close']).diff().rolling(20).mean()\n",
    "X['log_ret_5_mean_20'] = np.log(X['Close']).diff(5).rolling(20).mean()\n",
    "X['log_ret_20_mean_20'] = np.log(X['Close']).diff(20).rolling(20).mean()\n",
    "X['log_ret_60_mean_20'] = np.log(X['Close']).diff(60).rolling(20).mean()\n",
    "\n",
    "X['log_ret_1_mean_60'] = np.log(X['Close']).diff().rolling(60).mean()\n",
    "X['log_ret_5_mean_60'] = np.log(X['Close']).diff(5).rolling(60).mean()\n",
    "X['log_ret_20_mean_60'] = np.log(X['Close']).diff(20).rolling(60).mean()\n",
    "X['log_ret_60_mean_60'] = np.log(X['Close']).diff(60).rolling(60).mean()\n",
    "\n",
    "# rolling std\n",
    "X['log_ret_1_std_30'] = np.log(X['Close']).diff().rolling(30).std()\n",
    "X['log_ret_5_std_30'] = np.log(X['Close']).diff(5).rolling(30).std()\n",
    "X['log_ret_20_std_30'] = np.log(X['Close']).diff(20).rolling(30).std()\n",
    "X['log_ret_60_std_30'] = np.log(X['Close']).diff(60).rolling(30).std()\n",
    "\n",
    "X['log_ret_1_std_60'] = np.log(X['Close']).diff().rolling(60).std()\n",
    "X['log_ret_5_std_60'] = np.log(X['Close']).diff(5).rolling(60).std()\n",
    "X['log_ret_20_std_60'] = np.log(X['Close']).diff(20).rolling(60).std()\n",
    "X['log_ret_60_std_60'] = np.log(X['Close']).diff(60).rolling(60).std()\n",
    "\n",
    "# rolling min\n",
    "X['log_ret_1_min_30'] = np.log(X['Close']).diff().rolling(30).min()\n",
    "X['log_ret_5_min_30'] = np.log(X['Close']).diff(5).rolling(30).min()\n",
    "X['log_ret_20_min_30'] = np.log(X['Close']).diff(20).rolling(30).min()\n",
    "X['log_ret_60_min_30'] = np.log(X['Close']).diff(60).rolling(30).min()\n",
    "\n",
    "X['log_ret_1_min_60'] = np.log(X['Close']).diff().rolling(60).min()\n",
    "X['log_ret_5_min_60'] = np.log(X['Close']).diff(5).rolling(60).min()\n",
    "X['log_ret_20_min_60'] = np.log(X['Close']).diff(20).rolling(60).min()\n",
    "X['log_ret_60_min_60'] = np.log(X['Close']).diff(60).rolling(60).min()\n",
    "\n",
    "# rolling max\n",
    "X['log_ret_1_max_30'] = np.log(X['Close']).diff().rolling(30).max()\n",
    "X['log_ret_5_max_30'] = np.log(X['Close']).diff(5).rolling(30).max()\n",
    "X['log_ret_20_max_30'] = np.log(X['Close']).diff(20).rolling(30).max()\n",
    "X['log_ret_60_max_30'] = np.log(X['Close']).diff(60).rolling(30).max()\n",
    "\n",
    "X['log_ret_1_max_60'] = np.log(X['Close']).diff().rolling(60).max()\n",
    "X['log_ret_5_max_60'] = np.log(X['Close']).diff(5).rolling(60).max()\n",
    "X['log_ret_20_max_60'] = np.log(X['Close']).diff(20).rolling(60).max()\n",
    "X['log_ret_60_max_60'] = np.log(X['Close']).diff(60).rolling(60).max()\n",
    "\n",
    "X.dropna(inplace=True)\n",
    "\n",
    "X.drop(columns=['Close', 'Volume'], axis=1, inplace=True)"
   ]
  },
  {
   "cell_type": "code",
   "execution_count": 34,
   "metadata": {},
   "outputs": [],
   "source": [
    "# construct output\n",
    "y['log_ret_1'] = np.log(y['Close']).diff(1).shift(-1)\n",
    "y['log_ret_5'] = np.log(y['Close']).diff(5).shift(-5)\n",
    "y['log_ret_10'] = np.log(y['Close']).diff(10).shift(-10)\n",
    "y['log_ret_20'] = np.log(y['Close']).diff(20).shift(-20)\n",
    "\n",
    "y.dropna(inplace=True)\n",
    "y.drop(columns=['Close'], axis=1, inplace=True)"
   ]
  },
  {
   "cell_type": "code",
   "execution_count": 36,
   "metadata": {},
   "outputs": [
    {
     "data": {
      "text/plain": [
       "((2159, 46), (325, 46), (2159, 4), (325, 4))"
      ]
     },
     "execution_count": 36,
     "metadata": {},
     "output_type": "execute_result"
    }
   ],
   "source": [
    "X, y = common_idx(X, y)\n",
    "\n",
    "X.shape, y.shape"
   ]
  },
  {
   "cell_type": "code",
   "execution_count": 33,
   "metadata": {},
   "outputs": [
    {
     "data": {
      "text/plain": [
       "((2179, 46), (345, 46))"
      ]
     },
     "execution_count": 33,
     "metadata": {},
     "output_type": "execute_result"
    }
   ],
   "source": [
    "X_train.shape, X_test.shape"
   ]
  },
  {
   "cell_type": "code",
   "execution_count": 35,
   "metadata": {},
   "outputs": [
    {
     "data": {
      "text/plain": [
       "((2278, 4), (444, 4))"
      ]
     },
     "execution_count": 35,
     "metadata": {},
     "output_type": "execute_result"
    }
   ],
   "source": [
    "y_train.shape, y_test.shape"
   ]
  },
  {
   "cell_type": "markdown",
   "metadata": {},
   "source": [
    "### GBR model"
   ]
  },
  {
   "cell_type": "code",
   "execution_count": 38,
   "metadata": {},
   "outputs": [
    {
     "data": {
      "text/plain": [
       "GradientBoostingRegressor(alpha=0.9, criterion='friedman_mse', init=None,\n",
       "             learning_rate=0.1, loss='ls', max_depth=3, max_features=None,\n",
       "             max_leaf_nodes=None, min_impurity_decrease=0.0,\n",
       "             min_impurity_split=None, min_samples_leaf=1,\n",
       "             min_samples_split=2, min_weight_fraction_leaf=0.0,\n",
       "             n_estimators=100, n_iter_no_change=None, presort='auto',\n",
       "             random_state=10, subsample=1.0, tol=0.0001,\n",
       "             validation_fraction=0.1, verbose=0, warm_start=False)"
      ]
     },
     "execution_count": 38,
     "metadata": {},
     "output_type": "execute_result"
    }
   ],
   "source": [
    "reg = GradientBoostingRegressor(random_state=10, n_estimators=100)\n",
    "reg.fit(X_train, y_train['log_ret_5'])"
   ]
  },
  {
   "cell_type": "code",
   "execution_count": 39,
   "metadata": {},
   "outputs": [
    {
     "data": {
      "text/plain": [
       "0.8356504263868818"
      ]
     },
     "execution_count": 39,
     "metadata": {},
     "output_type": "execute_result"
    }
   ],
   "source": [
    "np.corrcoef(reg.predict(X_train), y_train['log_ret_5'])[0][1]"
   ]
  },
  {
   "cell_type": "code",
   "execution_count": 40,
   "metadata": {},
   "outputs": [
    {
     "data": {
      "text/plain": [
       "0.20711841802160116"
      ]
     },
     "execution_count": 40,
     "metadata": {},
     "output_type": "execute_result"
    }
   ],
   "source": [
    "# overfit\n",
    "np.corrcoef(reg.predict(X_test), y_test['log_ret_5'])[0][1]"
   ]
  },
  {
   "cell_type": "code",
   "execution_count": 41,
   "metadata": {},
   "outputs": [
    {
     "data": {
      "text/plain": [
       "<matplotlib.collections.PathCollection at 0x1f68b558eb8>"
      ]
     },
     "execution_count": 41,
     "metadata": {},
     "output_type": "execute_result"
    },
    {
     "data": {
      "image/png": "[encoded data removed]",
      "text/plain": [
       "<Figure size 1080x576 with 1 Axes>"
      ]
     },
     "metadata": {
      "needs_background": "light"
     },
     "output_type": "display_data"
    }
   ],
   "source": [
    "plt.scatter(reg.predict(X_test), y_test['log_ret_5'])"
   ]
  },
  {
   "cell_type": "code",
   "execution_count": 124,
   "metadata": {},
   "outputs": [
    {
     "data": {
      "image/png": "[encoded data removed]",
      "text/plain": [
       "<Figure size 1080x576 with 1 Axes>"
      ]
     },
     "metadata": {
      "needs_background": "light"
     },
     "output_type": "display_data"
    }
   ],
   "source": [
    "plt.hist(reg.predict(X_test)-y_test['log_ret_10'], bins=100)\n",
    "plt.axvline(np.mean(reg.predict(X_test)-y_test['log_ret_5']), color='orange')\n",
    "plt.show()"
   ]
  }
 ],
 "metadata": {
  "kernelspec": {
   "display_name": "Python 3",
   "language": "python",
   "name": "python3"
  },
  "language_info": {
   "codemirror_mode": {
    "name": "ipython",
    "version": 3
   },
   "file_extension": ".py",
   "mimetype": "text/x-python",
   "name": "python",
   "nbconvert_exporter": "python",
   "pygments_lexer": "ipython3",
   "version": "3.6.6"
  }
 },
 "nbformat": 4,
 "nbformat_minor": 2
}
